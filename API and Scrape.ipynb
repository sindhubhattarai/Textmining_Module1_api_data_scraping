{
 "cells": [
  {
   "cell_type": "markdown",
   "metadata": {},
   "source": [
    "## Assignment 1.1 \n",
    "\n",
    "### Sindhu Bhattarai\n",
    "\n",
    "\n",
    "\n",
    "## ADS 509 Module 1: APIs and Web Scraping\n",
    "\n",
    "**Instruction:**\n",
    "\n",
    "This notebook has three parts. In the first part you will pull data from the Twitter API. In the second, you will scrape lyrics from AZLyrics.com. In the last part, you'll run code that verifies the completeness of your data pull. \n",
    "\n",
    "For this assignment you have chosen two musical artists who have at least 100,000 Twitter followers and 20 songs with lyrics on AZLyrics.com. In this part of the assignment we pull the some of the user information for the followers of your artist and store them in text files. \n"
   ]
  },
  {
   "cell_type": "code",
   "execution_count": 1,
   "metadata": {},
   "outputs": [
    {
     "name": "stdout",
     "output_type": "stream",
     "text": [
      "Name: tweepy\n",
      "Version: 4.10.1\n",
      "Summary: Twitter library for Python\n",
      "Home-page: https://www.tweepy.org/\n",
      "Author: Joshua Roesslein\n",
      "Author-email: tweepy@googlegroups.com\n",
      "License: MIT\n",
      "Location: /Users/sakshyamdahal/opt/anaconda3/lib/python3.7/site-packages\n",
      "Requires: requests, requests-oauthlib, oauthlib\n",
      "Required-by: \n",
      "Note: you may need to restart the kernel to use updated packages.\n"
     ]
    }
   ],
   "source": [
    "pip show tweepy"
   ]
  },
  {
   "cell_type": "markdown",
   "metadata": {},
   "source": [
    "# Twitter API Pull"
   ]
  },
  {
   "cell_type": "code",
   "execution_count": 2,
   "metadata": {},
   "outputs": [],
   "source": [
    "# for the twitter section\n",
    "import tweepy\n",
    "import os\n",
    "import datetime\n",
    "import re\n",
    "from pprint import pprint\n",
    "\n",
    "# for the lyrics scrape section\n",
    "import requests\n",
    "import time\n",
    "from bs4 import BeautifulSoup\n",
    "from collections import defaultdict, Counter\n"
   ]
  },
  {
   "cell_type": "markdown",
   "metadata": {},
   "source": [
    "**Instruction:**\n",
    "\n",
    "We need bring in our API keys. Since API keys should be kept secret, we'll keep them in a file called `api_keys.py`. This file should be stored in the directory where you store this notebook. The example file is provided for you on Blackboard. The example has API keys that are _not_ functional, so you'll need to get Twitter credentials and replace the placeholder keys. "
   ]
  },
  {
   "cell_type": "code",
   "execution_count": 3,
   "metadata": {},
   "outputs": [],
   "source": [
    "#bringing the api keys \n",
    "\n",
    "from api_keys import api_key, api_key_secret, bearer_token\n"
   ]
  },
  {
   "cell_type": "code",
   "execution_count": 4,
   "metadata": {},
   "outputs": [],
   "source": [
    "client = tweepy.Client(bearer_token,wait_on_rate_limit=True)"
   ]
  },
  {
   "cell_type": "markdown",
   "metadata": {},
   "source": [
    "# Testing the API\n",
    "\n",
    "The Twitter APIs are quite rich. Let's play around with some of the features before we dive into this section of the assignment. For our testing, it's convenient to have a small data set to play with. We will seed the code with the handle of John Chandler, one of the instructors in this course. His handle is `@37chandler`. Feel free to use a different handle if you would like to look at someone else's data. \n",
    "\n",
    "We will write code to explore a few aspects of the API: \n",
    "\n",
    "1. Pull some of the followers @37chandler.\n",
    "1. Explore response data, which gives us information about Twitter users. \n",
    "1. Pull the last few tweets by @37chandler.\n"
   ]
  },
  {
   "cell_type": "code",
   "execution_count": 5,
   "metadata": {},
   "outputs": [],
   "source": [
    "handle = \"37chandler\"\n",
    "user_obj = client.get_user(username=handle)\n",
    "\n",
    "followers = client.get_users_followers(\n",
    "    # Learn about user fields here: \n",
    "    # https://developer.twitter.com/en/docs/twitter-api/data-dictionary/object-model/user\n",
    "    user_obj.data.id, user_fields=[\"created_at\",\"description\",\"location\",\n",
    "                                   \"public_metrics\"]\n",
    ")\n",
    "\n"
   ]
  },
  {
   "cell_type": "markdown",
   "metadata": {},
   "source": [
    "Now let's explore these a bit. We'll start by printing out names, locations, following count, and followers count for these users. "
   ]
  },
  {
   "cell_type": "code",
   "execution_count": 6,
   "metadata": {},
   "outputs": [
    {
     "name": "stdout",
     "output_type": "stream",
     "text": [
      "Dave Renn lists 'None' as their location.\n",
      " Following: 42, Followers: 10.\n",
      "\n",
      "Lionel lists 'None' as their location.\n",
      " Following: 202, Followers: 204.\n",
      "\n",
      "Megan Randall lists 'None' as their location.\n",
      " Following: 141, Followers: 100.\n",
      "\n",
      "Jacob Salzman lists 'None' as their location.\n",
      " Following: 562, Followers: 134.\n",
      "\n",
      "twiter not fun lists 'None' as their location.\n",
      " Following: 221, Followers: 21.\n",
      "\n",
      "Hariettwilsonincarnate lists 'None' as their location.\n",
      " Following: 218, Followers: 60.\n",
      "\n",
      "Christian Tinsley lists 'None' as their location.\n",
      " Following: 2, Followers: 0.\n",
      "\n",
      "Steve lists 'I'm over here.' as their location.\n",
      " Following: 1592, Followers: 33.\n",
      "\n",
      "John O'Connor 🇺🇦 lists 'None' as their location.\n",
      " Following: 8, Followers: 1.\n",
      "\n",
      "CodeGrade lists 'Amsterdam' as their location.\n",
      " Following: 2820, Followers: 424.\n",
      "\n",
      "Cleverhood lists 'Providence, RI' as their location.\n",
      " Following: 2795, Followers: 3562.\n",
      "\n",
      "Regina 🚶‍♀️🚲🌳 lists 'Minneapolis' as their location.\n",
      " Following: 2802, Followers: 3336.\n",
      "\n",
      "Eric Hallstrom lists 'Missoula, MT' as their location.\n",
      " Following: 464, Followers: 305.\n",
      "\n",
      "Tyler 📊 🐕 🚲 lists 'Minneapolis, MN' as their location.\n",
      " Following: 528, Followers: 83.\n",
      "\n",
      "The Center for Community Ownership (CCO) lists 'None' as their location.\n",
      " Following: 53, Followers: 41.\n",
      "\n",
      "Deepak Chauhan lists 'None' as their location.\n",
      " Following: 450, Followers: 25.\n",
      "\n",
      "Patsy lists 'Seattle, WA' as their location.\n",
      " Following: 156, Followers: 15.\n",
      "\n",
      "andrew lists 'St Paul, MN' as their location.\n",
      " Following: 1413, Followers: 461.\n",
      "\n",
      "Ada Smith lists 'None' as their location.\n",
      " Following: 274, Followers: 198.\n",
      "\n",
      "Stacey Burns lists 'Minneapolis Witch District' as their location.\n",
      " Following: 4586, Followers: 10880.\n",
      "\n"
     ]
    }
   ],
   "source": [
    "num_to_print = 20\n",
    "\n",
    "for idx, user in enumerate(followers.data) :\n",
    "    following_count = user.public_metrics['following_count']\n",
    "    followers_count = user.public_metrics['followers_count']\n",
    "    \n",
    "    print(f\"{user.name} lists '{user.location}' as their location.\")\n",
    "    print(f\" Following: {following_count}, Followers: {followers_count}.\")\n",
    "    print()\n",
    "    \n",
    "    if idx >= (num_to_print - 1) :\n",
    "        break\n",
    "    "
   ]
  },
  {
   "cell_type": "markdown",
   "metadata": {},
   "source": [
    "Let's find the person who follows this handle who has the most followers. "
   ]
  },
  {
   "cell_type": "code",
   "execution_count": 7,
   "metadata": {},
   "outputs": [
    {
     "name": "stdout",
     "output_type": "stream",
     "text": [
      "WedgeLIVE\n",
      "{'followers_count': 14180, 'following_count': 2222, 'tweet_count': 56103, 'listed_count': 218}\n"
     ]
    }
   ],
   "source": [
    "max_followers = 0\n",
    "\n",
    "for idx, user in enumerate(followers.data) :\n",
    "    followers_count = user.public_metrics['followers_count']\n",
    "    \n",
    "    if followers_count > max_followers :\n",
    "        max_followers = followers_count\n",
    "        max_follower_user = user\n",
    "\n",
    "        \n",
    "print(max_follower_user)\n",
    "print(max_follower_user.public_metrics)"
   ]
  },
  {
   "cell_type": "markdown",
   "metadata": {},
   "source": [
    "Let's pull some more user fields and take a look at them. The fields can be specified in the `user_fields` argument. "
   ]
  },
  {
   "cell_type": "code",
   "execution_count": 8,
   "metadata": {},
   "outputs": [],
   "source": [
    "response = client.get_user(id=user_obj.data.id,\n",
    "                          user_fields=[\"created_at\",\"description\",\"location\",\n",
    "                                       \"entities\",\"name\",\"pinned_tweet_id\",\"profile_image_url\",\n",
    "                                       \"verified\",\"public_metrics\"])"
   ]
  },
  {
   "cell_type": "code",
   "execution_count": 9,
   "metadata": {},
   "outputs": [
    {
     "name": "stdout",
     "output_type": "stream",
     "text": [
      "for public_metrics we have {'followers_count': 193, 'following_count': 589, 'tweet_count': 997, 'listed_count': 3}\n",
      "for description we have He/Him. Data scientist, urban cyclist, educator, erstwhile frisbee player. \n",
      "\n",
      "¯\\_(ツ)_/¯\n",
      "for id we have 33029025\n",
      "for created_at we have 2009-04-18 22:08:22+00:00\n",
      "for verified we have False\n",
      "for name we have John Chandler\n",
      "for location we have MN\n",
      "for profile_image_url we have https://pbs.twimg.com/profile_images/2680483898/b30ae76f909352dbae5e371fb1c27454_normal.png\n",
      "for username we have 37chandler\n"
     ]
    }
   ],
   "source": [
    "for field, value in response.data.items() :\n",
    "    print(f\"for {field} we have {value}\")"
   ]
  },
  {
   "cell_type": "markdown",
   "metadata": {},
   "source": [
    "### **Questions**\n",
    "\n",
    "**Now a few questions for you about the user object.**\n",
    "\n",
    "Q: How many fields are being returned in the `response` object? \n",
    "\n",
    "A:  Nine (9) fields are used in the response object.  \n",
    "\n",
    "---\n",
    "\n",
    "Q: Are any of the fields within the user object non-scalar? (I.e., more complicated than a simple data type like integer, float, string, boolean, etc.) \n",
    "\n",
    "A: Yes, the feature public_metrics is in format dictionary. \n",
    "\n",
    "---\n",
    "\n",
    "Q: How many friends, followers, and tweets does this user have? \n",
    "\n",
    "A: This user have 193 followers, 589 whom he is following and 996 tweets. \n"
   ]
  },
  {
   "cell_type": "markdown",
   "metadata": {},
   "source": [
    "Although you won't need it for this assignment, individual tweets can be a rich source of text-based data. To illustrate the concepts, let's look at the last few tweets for this user. You are encouraged to explore the fields that are available about Tweets."
   ]
  },
  {
   "cell_type": "code",
   "execution_count": 10,
   "metadata": {},
   "outputs": [
    {
     "name": "stdout",
     "output_type": "stream",
     "text": [
      "1569760631548690437\n",
      "RT @dtmooreeditor: So there's a particular quirk of English grammar that I've always found quite endearing: the exocentric verb-noun compou…\n",
      "\n",
      "1569155273742327811\n",
      "As a Minneapolis person, I knew we had Toronto beat, but I didn't realize Portland had us beat: https://t.co/xrx5mOFcWK.\n",
      "\n",
      "But @nytimes, c'mon! https://t.co/M9mBWhdgsj\n",
      "\n",
      "1568982292923826176\n",
      "RT @wonderofscience: Amazing lenticular cloud over Mount Fuji\n",
      "\n",
      "Credit: Iurie Belegurschi\n",
      "https://t.co/0mUxl28H9U\n",
      "\n",
      "1568242374085869570\n",
      "RT @depthsofwiki: lots of memes about speedy wikipedia editors — quick thread about what went down on wikipedia in the minutes after her de…\n",
      "\n",
      "1568074978754703361\n",
      "@DrLaurenWilson @leighradwood @MaritsaGeorgiou @Walgreens I could not possibly agree more with this sentiment. Compared to almost any other primary care I've received, they are great.\n",
      "\n",
      "1567530169686196224\n",
      "@DrLaurenWilson @MaritsaGeorgiou @Walgreens For those who have access to Curry Health Center on campus, you can get a bivalent booster in 15 minutes from their delightful staff.\n",
      "\n",
      "1567511181526708224\n",
      "RT @shes_the_maNN1: I can’t describe how ancient this makes me feel. https://t.co/a1IvELjOFY\n",
      "\n",
      "1567510612665864193\n",
      "RT @AngryBlackLady: this is hilarious\n",
      "\n",
      "1566031636457725953\n",
      "RT @MarkJacob16: With all the arguments over whether MAGA Republicans are fascists, I reread William Shirer’s “The Rise and Fall of the Thi…\n",
      "\n",
      "1563737816219000832\n",
      "RT @wonderofscience: The Milky Way galaxy and a phenomenon known as \"airglow\" seen from the International Space Station. https://t.co/bOLt8…\n",
      "\n"
     ]
    }
   ],
   "source": [
    "\n",
    "response = client.get_users_tweets(user_obj.data.id)\n",
    "\n",
    "# By default, only the ID and text fields of each Tweet will be returned\n",
    "for idx, tweet in enumerate(response.data) :\n",
    "    print(tweet.id)\n",
    "    print(tweet.text)\n",
    "    print()\n",
    "    \n",
    "    if idx > 10 :\n",
    "        break"
   ]
  },
  {
   "cell_type": "markdown",
   "metadata": {},
   "source": [
    "## Pulling Follower Information\n",
    "\n",
    "**Instructions:**\n",
    "\n",
    "In this next section of the assignment, we will pull information about the followers of your two artists. We've seen above how to pull a set of followers using `client.get_users_followers`. This function has a parameter, `max_results`, that we can use to change the number of followers that we pull. Unfortunately, we can only pull 1000 followers at a time, which means we will need to handle the _pagination_ of our results. \n",
    "\n",
    "The return object has the `.data` field, where the results will be found. It also has `.meta`, which we use to select the next \"page\" in the results using the `next_token` result. I will illustrate the ideas using our user from above. \n",
    "\n",
    "\n",
    "### Rate Limiting\n",
    "\n",
    "Twitter limits the rates at which we can pull data, as detailed in [this guide](https://developer.twitter.com/en/docs/twitter-api/rate-limits). We can make 15 user requests per 15 minutes, meaning that we can pull $4 \\cdot 15 \\cdot 1000 = 60000$ users per hour. I illustrate the handling of rate limiting below, though whether or not you hit that part of the code depends on your value of `handle`.  \n",
    "\n",
    "\n",
    "In the below example, I'll pull all the followers, 25 at a time. (We're using 25 to illustrate the idea; when you do this set the value to 1000.) "
   ]
  },
  {
   "cell_type": "code",
   "execution_count": 11,
   "metadata": {},
   "outputs": [],
   "source": [
    "handle_followers = []\n",
    "pulls = 0\n",
    "max_pulls = 100\n",
    "next_token = None\n",
    "\n",
    "while True :\n",
    "\n",
    "    followers = client.get_users_followers(\n",
    "        user_obj.data.id, \n",
    "        max_results=25, # when you do this for real, set this to 1000!\n",
    "        pagination_token = next_token,\n",
    "        user_fields=[\"created_at\",\"description\",\"location\",\n",
    "                     \"entities\",\"name\",\"pinned_tweet_id\",\"profile_image_url\",\n",
    "                     \"verified\",\"public_metrics\"]\n",
    "    )\n",
    "    pulls += 1\n",
    "    \n",
    "    for follower in followers.data : \n",
    "        follower_row = (follower.id,follower.name,follower.created_at,follower.description)\n",
    "        handle_followers.append(follower_row)\n",
    "    \n",
    "    if 'next_token' in followers.meta and pulls < max_pulls :\n",
    "        next_token = followers.meta['next_token']\n",
    "    else : \n",
    "        break\n",
    "        \n"
   ]
  },
  {
   "cell_type": "markdown",
   "metadata": {},
   "source": [
    "## Pulling Twitter Data for Your Artists\n",
    "\n",
    "Now let's take a look at your artists and see how long it is going to take to pull all their followers. "
   ]
  },
  {
   "cell_type": "code",
   "execution_count": 12,
   "metadata": {},
   "outputs": [
    {
     "name": "stdout",
     "output_type": "stream",
     "text": [
      "It would take 1105.00 hours to pull all 66300064 followers for selenagomez. \n",
      "It would take 461.14 hours to pull all 27668170 followers for Adele. \n"
     ]
    }
   ],
   "source": [
    "## checking the time to pull the information of the artists I like\n",
    "\n",
    "artists = dict()\n",
    "\n",
    "for handle in ['selenagomez','Adele'] : \n",
    "    user_obj = client.get_user(username=handle,user_fields=[\"public_metrics\"])\n",
    "    artists[handle] = (user_obj.data.id, \n",
    "                       handle,\n",
    "                       user_obj.data.public_metrics['followers_count'])\n",
    "    \n",
    "\n",
    "for artist, data in artists.items() : \n",
    "    print(f\"It would take {data[2]/(1000*15*4):.2f} hours to pull all {data[2]} followers for {artist}. \")\n",
    "    "
   ]
  },
  {
   "cell_type": "code",
   "execution_count": 14,
   "metadata": {},
   "outputs": [],
   "source": [
    "# Make the \"twitter\" folder here. If you'd like to practice your programming, add functionality \n",
    "# that checks to see if the folder exists. If it does, then \"unlink\" it. Then create a new one.\n",
    "\n",
    "if not os.path.isdir(\"twitter\") : \n",
    "    #shutil.rmtree(\"twitter/\")\n",
    "    os.mkdir(\"twitter\")"
   ]
  },
  {
   "cell_type": "markdown",
   "metadata": {},
   "source": [
    "**Instruction:**\n",
    "\n",
    "In this following cells, build on the above code to pull some of the followers and their data for your two artists. As you pull the data, write the follower ids to a file called `[artist name]_followers.txt` in the \"twitter\" folder. For instance, for Cher I would create a file named `cher_followers.txt`. As you pull the data, also store it in an object like a list or a data frame.\n",
    "\n",
    "In addition to creating a file that only has follower IDs in it, you will create a file that includes user data. From the response object please extract and store the following fields: \n",
    "\n",
    "* screen_name\t\n",
    "* name\t\n",
    "* id\t\n",
    "* location\t\n",
    "* followers_count\t\n",
    "* friends_count\t\n",
    "* description\n",
    "\n",
    "Store the fields with one user per row in a tab-delimited text file with the name `[artist name]_follower_data.txt`. For instance, for Cher I would create a file named `cher_follower_data.txt`. \n",
    "\n",
    "One note: the user's description can have tabs or returns in it, so make sure to clean those out of the description before writing them to the file. I've included some example code to do that below the stub. "
   ]
  },
  {
   "cell_type": "code",
   "execution_count": 15,
   "metadata": {},
   "outputs": [],
   "source": [
    "num_followers_to_pull = 100*1000 # feel free to use this to limit the number of followers you pull."
   ]
  },
  {
   "cell_type": "code",
   "execution_count": 16,
   "metadata": {},
   "outputs": [
    {
     "name": "stdout",
     "output_type": "stream",
     "text": [
      "pulling followers forselenagomez.\n",
      "Response(data=<User id=23375688 name=Selena Gomez username=selenagomez>, includes={}, errors=[], meta={})\n",
      "finished pulling followers for selenagomez.\n",
      "finished pulling followers for selenagomez.\n",
      "finished pulling followers for selenagomez.\n",
      "finished pulling followers for selenagomez.\n",
      "finished pulling followers for selenagomez.\n"
     ]
    },
    {
     "name": "stderr",
     "output_type": "stream",
     "text": [
      "Rate limit exceeded. Sleeping for 703 seconds.\n"
     ]
    },
    {
     "name": "stdout",
     "output_type": "stream",
     "text": [
      "finished pulling followers for selenagomez.\n",
      "finished pulling followers for selenagomez.\n",
      "finished pulling followers for selenagomez.\n",
      "finished pulling followers for selenagomez.\n",
      "finished pulling followers for selenagomez.\n",
      "finished pulling followers for selenagomez.\n",
      "finished pulling followers for selenagomez.\n",
      "finished pulling followers for selenagomez.\n",
      "finished pulling followers for selenagomez.\n",
      "finished pulling followers for selenagomez.\n",
      "finished pulling followers for selenagomez.\n",
      "finished pulling followers for selenagomez.\n",
      "finished pulling followers for selenagomez.\n",
      "finished pulling followers for selenagomez.\n",
      "finished pulling followers for selenagomez.\n"
     ]
    },
    {
     "name": "stderr",
     "output_type": "stream",
     "text": [
      "Rate limit exceeded. Sleeping for 895 seconds.\n"
     ]
    },
    {
     "name": "stdout",
     "output_type": "stream",
     "text": [
      "finished pulling followers for selenagomez.\n",
      "finished pulling followers for selenagomez.\n",
      "finished pulling followers for selenagomez.\n",
      "finished pulling followers for selenagomez.\n",
      "finished pulling followers for selenagomez.\n",
      "finished pulling followers for selenagomez.\n",
      "finished pulling followers for selenagomez.\n",
      "finished pulling followers for selenagomez.\n",
      "finished pulling followers for selenagomez.\n",
      "finished pulling followers for selenagomez.\n",
      "finished pulling followers for selenagomez.\n",
      "finished pulling followers for selenagomez.\n",
      "finished pulling followers for selenagomez.\n",
      "finished pulling followers for selenagomez.\n",
      "finished pulling followers for selenagomez.\n",
      "finished pulling followers for selenagomez.\n"
     ]
    },
    {
     "name": "stderr",
     "output_type": "stream",
     "text": [
      "Rate limit exceeded. Sleeping for 893 seconds.\n"
     ]
    },
    {
     "name": "stdout",
     "output_type": "stream",
     "text": [
      "finished pulling followers for selenagomez.\n",
      "finished pulling followers for selenagomez.\n",
      "finished pulling followers for selenagomez.\n",
      "finished pulling followers for selenagomez.\n",
      "finished pulling followers for selenagomez.\n",
      "finished pulling followers for selenagomez.\n",
      "finished pulling followers for selenagomez.\n",
      "finished pulling followers for selenagomez.\n",
      "finished pulling followers for selenagomez.\n",
      "finished pulling followers for selenagomez.\n",
      "finished pulling followers for selenagomez.\n",
      "finished pulling followers for selenagomez.\n",
      "finished pulling followers for selenagomez.\n",
      "finished pulling followers for selenagomez.\n",
      "finished pulling followers for selenagomez.\n"
     ]
    },
    {
     "name": "stderr",
     "output_type": "stream",
     "text": [
      "Rate limit exceeded. Sleeping for 892 seconds.\n"
     ]
    },
    {
     "name": "stdout",
     "output_type": "stream",
     "text": [
      "finished pulling followers for selenagomez.\n",
      "finished pulling followers for selenagomez.\n",
      "finished pulling followers for selenagomez.\n",
      "finished pulling followers for selenagomez.\n",
      "finished pulling followers for selenagomez.\n",
      "finished pulling followers for selenagomez.\n",
      "finished pulling followers for selenagomez.\n",
      "finished pulling followers for selenagomez.\n",
      "finished pulling followers for selenagomez.\n",
      "finished pulling followers for selenagomez.\n",
      "finished pulling followers for selenagomez.\n",
      "finished pulling followers for selenagomez.\n",
      "finished pulling followers for selenagomez.\n",
      "finished pulling followers for selenagomez.\n",
      "finished pulling followers for selenagomez.\n"
     ]
    },
    {
     "name": "stderr",
     "output_type": "stream",
     "text": [
      "Rate limit exceeded. Sleeping for 892 seconds.\n"
     ]
    },
    {
     "name": "stdout",
     "output_type": "stream",
     "text": [
      "finished pulling followers for selenagomez.\n",
      "finished pulling followers for selenagomez.\n",
      "finished pulling followers for selenagomez.\n",
      "finished pulling followers for selenagomez.\n",
      "finished pulling followers for selenagomez.\n",
      "finished pulling followers for selenagomez.\n",
      "finished pulling followers for selenagomez.\n",
      "finished pulling followers for selenagomez.\n",
      "finished pulling followers for selenagomez.\n",
      "finished pulling followers for selenagomez.\n",
      "finished pulling followers for selenagomez.\n",
      "finished pulling followers for selenagomez.\n",
      "finished pulling followers for selenagomez.\n",
      "finished pulling followers for selenagomez.\n",
      "finished pulling followers for selenagomez.\n"
     ]
    },
    {
     "name": "stderr",
     "output_type": "stream",
     "text": [
      "Rate limit exceeded. Sleeping for 888 seconds.\n"
     ]
    },
    {
     "name": "stdout",
     "output_type": "stream",
     "text": [
      "finished pulling followers for selenagomez.\n",
      "finished pulling followers for selenagomez.\n",
      "finished pulling followers for selenagomez.\n",
      "finished pulling followers for selenagomez.\n",
      "finished pulling followers for selenagomez.\n",
      "finished pulling followers for selenagomez.\n",
      "finished pulling followers for selenagomez.\n",
      "finished pulling followers for selenagomez.\n",
      "finished pulling followers for selenagomez.\n",
      "finished pulling followers for selenagomez.\n",
      "finished pulling followers for selenagomez.\n",
      "finished pulling followers for selenagomez.\n",
      "finished pulling followers for selenagomez.\n",
      "finished pulling followers for selenagomez.\n",
      "finished pulling followers for selenagomez.\n"
     ]
    },
    {
     "name": "stderr",
     "output_type": "stream",
     "text": [
      "Rate limit exceeded. Sleeping for 888 seconds.\n"
     ]
    },
    {
     "name": "stdout",
     "output_type": "stream",
     "text": [
      "finished pulling followers for selenagomez.\n",
      "finished pulling followers for selenagomez.\n",
      "finished pulling followers for selenagomez.\n",
      "finished pulling followers for selenagomez.\n",
      "finished pulling followers for selenagomez.\n",
      "pulling followers forAdele.\n",
      "Response(data=<User id=184910040 name=Adele username=Adele>, includes={}, errors=[], meta={})\n",
      "finished pulling followers for Adele.\n",
      "finished pulling followers for Adele.\n",
      "finished pulling followers for Adele.\n",
      "finished pulling followers for Adele.\n",
      "finished pulling followers for Adele.\n",
      "finished pulling followers for Adele.\n",
      "finished pulling followers for Adele.\n",
      "finished pulling followers for Adele.\n",
      "finished pulling followers for Adele.\n"
     ]
    },
    {
     "name": "stderr",
     "output_type": "stream",
     "text": [
      "Rate limit exceeded. Sleeping for 893 seconds.\n"
     ]
    },
    {
     "name": "stdout",
     "output_type": "stream",
     "text": [
      "finished pulling followers for Adele.\n",
      "finished pulling followers for Adele.\n",
      "finished pulling followers for Adele.\n",
      "finished pulling followers for Adele.\n",
      "finished pulling followers for Adele.\n",
      "finished pulling followers for Adele.\n",
      "finished pulling followers for Adele.\n",
      "finished pulling followers for Adele.\n",
      "finished pulling followers for Adele.\n",
      "finished pulling followers for Adele.\n",
      "finished pulling followers for Adele.\n",
      "finished pulling followers for Adele.\n",
      "finished pulling followers for Adele.\n",
      "finished pulling followers for Adele.\n",
      "finished pulling followers for Adele.\n",
      "finished pulling followers for Adele.\n"
     ]
    },
    {
     "name": "stderr",
     "output_type": "stream",
     "text": [
      "Rate limit exceeded. Sleeping for 892 seconds.\n"
     ]
    },
    {
     "name": "stdout",
     "output_type": "stream",
     "text": [
      "finished pulling followers for Adele.\n",
      "finished pulling followers for Adele.\n",
      "finished pulling followers for Adele.\n",
      "finished pulling followers for Adele.\n",
      "finished pulling followers for Adele.\n",
      "finished pulling followers for Adele.\n",
      "finished pulling followers for Adele.\n",
      "finished pulling followers for Adele.\n",
      "finished pulling followers for Adele.\n",
      "finished pulling followers for Adele.\n",
      "finished pulling followers for Adele.\n",
      "finished pulling followers for Adele.\n",
      "finished pulling followers for Adele.\n",
      "finished pulling followers for Adele.\n",
      "finished pulling followers for Adele.\n"
     ]
    },
    {
     "name": "stderr",
     "output_type": "stream",
     "text": [
      "Rate limit exceeded. Sleeping for 891 seconds.\n"
     ]
    },
    {
     "name": "stdout",
     "output_type": "stream",
     "text": [
      "finished pulling followers for Adele.\n",
      "finished pulling followers for Adele.\n",
      "finished pulling followers for Adele.\n",
      "finished pulling followers for Adele.\n",
      "finished pulling followers for Adele.\n",
      "finished pulling followers for Adele.\n",
      "finished pulling followers for Adele.\n",
      "finished pulling followers for Adele.\n",
      "finished pulling followers for Adele.\n",
      "finished pulling followers for Adele.\n",
      "finished pulling followers for Adele.\n",
      "finished pulling followers for Adele.\n",
      "finished pulling followers for Adele.\n",
      "finished pulling followers for Adele.\n",
      "finished pulling followers for Adele.\n"
     ]
    },
    {
     "name": "stderr",
     "output_type": "stream",
     "text": [
      "Rate limit exceeded. Sleeping for 892 seconds.\n"
     ]
    },
    {
     "name": "stdout",
     "output_type": "stream",
     "text": [
      "finished pulling followers for Adele.\n",
      "finished pulling followers for Adele.\n",
      "finished pulling followers for Adele.\n",
      "finished pulling followers for Adele.\n",
      "finished pulling followers for Adele.\n",
      "finished pulling followers for Adele.\n",
      "finished pulling followers for Adele.\n",
      "finished pulling followers for Adele.\n",
      "finished pulling followers for Adele.\n",
      "finished pulling followers for Adele.\n",
      "finished pulling followers for Adele.\n",
      "finished pulling followers for Adele.\n",
      "finished pulling followers for Adele.\n",
      "finished pulling followers for Adele.\n",
      "finished pulling followers for Adele.\n"
     ]
    },
    {
     "name": "stderr",
     "output_type": "stream",
     "text": [
      "Rate limit exceeded. Sleeping for 887 seconds.\n"
     ]
    },
    {
     "name": "stdout",
     "output_type": "stream",
     "text": [
      "finished pulling followers for Adele.\n",
      "finished pulling followers for Adele.\n",
      "finished pulling followers for Adele.\n",
      "finished pulling followers for Adele.\n",
      "finished pulling followers for Adele.\n",
      "finished pulling followers for Adele.\n",
      "finished pulling followers for Adele.\n",
      "finished pulling followers for Adele.\n",
      "finished pulling followers for Adele.\n",
      "finished pulling followers for Adele.\n",
      "finished pulling followers for Adele.\n",
      "finished pulling followers for Adele.\n",
      "finished pulling followers for Adele.\n",
      "finished pulling followers for Adele.\n",
      "finished pulling followers for Adele.\n"
     ]
    },
    {
     "name": "stderr",
     "output_type": "stream",
     "text": [
      "Rate limit exceeded. Sleeping for 889 seconds.\n"
     ]
    },
    {
     "name": "stdout",
     "output_type": "stream",
     "text": [
      "finished pulling followers for Adele.\n",
      "finished pulling followers for Adele.\n",
      "finished pulling followers for Adele.\n",
      "finished pulling followers for Adele.\n",
      "finished pulling followers for Adele.\n",
      "finished pulling followers for Adele.\n",
      "finished pulling followers for Adele.\n",
      "finished pulling followers for Adele.\n",
      "finished pulling followers for Adele.\n",
      "finished pulling followers for Adele.\n",
      "finished pulling followers for Adele.\n",
      "finished pulling followers for Adele.\n",
      "finished pulling followers for Adele.\n",
      "finished pulling followers for Adele.\n",
      "finished pulling followers for Adele.\n"
     ]
    },
    {
     "name": "stderr",
     "output_type": "stream",
     "text": [
      "Rate limit exceeded. Sleeping for 882 seconds.\n"
     ]
    },
    {
     "name": "stdout",
     "output_type": "stream",
     "text": [
      "finished pulling followers for Adele.\n",
      "3:27:53.529902\n"
     ]
    }
   ],
   "source": [
    "# Modify the below code stub to pull the follower IDs and write them to a file. \n",
    "\n",
    "handles = ['selenagomez','Adele']\n",
    "\n",
    "whitespace_pattern = re.compile(r\"\\s+\")\n",
    "\n",
    "user_data = dict() \n",
    "followers_data = dict()\n",
    "\n",
    "\n",
    "# Grabs the time when we start making requests to the API\n",
    "start_time = datetime.datetime.now()\n",
    "\n",
    "path = 'twitter'\n",
    "\n",
    "for handle in handles :\n",
    "    \n",
    "    user_data[handle] = [] # will be a list of lists\n",
    "    followers_data[handle] = [] # will be a simple list of IDs\n",
    "\n",
    "     # Create the output file names\n",
    "\n",
    "    followers_output_file = handle + \"_followers.txt\"\n",
    "    user_data_output_file = handle + \"_followers_data.txt\"\n",
    "    \n",
    "    \n",
    "    print(f'pulling followers for{handle}.')\n",
    "    user_obj = client.get_user(username = handle)\n",
    "    print(user_obj)\n",
    "    \n",
    "    #path to store the extracted data\n",
    "    followers_output_file_path = os.path.join(path,followers_output_file)\n",
    "    user_data_output_file_path = os.path.join(path,user_data_output_file)\n",
    "    \n",
    "# Using tweepy.Paginator (https://docs.tweepy.org/en/latest/v2_pagination.html), \n",
    "# use `get_users_followers` to pull the follower data requested. \n",
    "    \n",
    "    for followers in tweepy.Paginator(client.get_users_followers,user_obj.data.id,  \n",
    "                                      user_fields=[\"description\",\"location\",\"public_metrics\"],\n",
    "                                      max_results=1000, limit=101):\n",
    "      # For each response object, extract the needed fields and store them in a dictionary or\n",
    "    # data frame. \n",
    "        for i in followers.data:\n",
    "            followers_data[handle].append(i.id)\n",
    "            \n",
    "        \n",
    "            user_data_rows = [i.username,\n",
    "                            i.name,\n",
    "                             i.id,\n",
    "                         i.location,\n",
    "                             i.public_metrics['followers_count'],\n",
    "                             i.public_metrics['following_count'],\n",
    "                             re.sub(r\"\\s+\",\"\",i.description).strip()]\n",
    "            user_data[handle].append(user_data_rows)\n",
    "\n",
    "    # If you've pulled num_followers_to_pull, feel free to break out paged twitter API response\n",
    "\n",
    "\n",
    "        if len(followers)>= num_followers_to_pull:\n",
    "            break\n",
    "            \n",
    "        print(f'finished pulling followers for {handle}.')\n",
    "        \n",
    "        #writting the data in the working directory for individual artists\n",
    "        with open(followers_output_file_path, 'w') as f1: \n",
    "            for follower_id in followers_data[handle]: \n",
    "                f1.write('%s\\n' % (follower_id))\n",
    "                \n",
    "                \n",
    "        with open(user_data_output_file_path, 'w') as f2: \n",
    "            f2.write('{}\\t{}\\t{}\\t{}\\t{}\\t{}\\t{}\\n'.format('screen_name', 'name', 'id', 'location',\n",
    "                                                        'followers_count', 'friends_count', 'description'))\n",
    "            for row in user_data[handle]: \n",
    "                for i in range(len(row)):\n",
    "                    if i == len(row) - 1:\n",
    "                        f2.write('%s\\n' % (row[i]))\n",
    "                    else:\n",
    "                        f2.write('%s\\t' % (row[i]))\n",
    "\n",
    "        \n",
    "# Let's see how long it took to grab all follower IDs\n",
    "end_time = datetime.datetime.now()\n",
    "print(end_time - start_time)\n"
   ]
  },
  {
   "cell_type": "markdown",
   "metadata": {},
   "source": [
    "---\n",
    "\n",
    "# Lyrics Scrape\n",
    "\n",
    "**Question:**\n",
    "\n",
    "This section asks you to pull data from the Twitter API and scrape www.AZLyrics.com. In the notebooks where you do that work you are asked to store the data in specific ways. "
   ]
  },
  {
   "cell_type": "code",
   "execution_count": 17,
   "metadata": {},
   "outputs": [],
   "source": [
    "# we'll use this dictionary to hold both the artist name and the link on AZlyrics\n",
    "artists = {'selena':\"https://www.azlyrics.com/s/selenagomez.html\",\n",
    "           'adele':\"https://www.azlyrics.com/a/adele.html\"} \n"
   ]
  },
  {
   "cell_type": "markdown",
   "metadata": {},
   "source": [
    "## A Note on Rate Limiting\n",
    "\n",
    "**Instructions:**\n",
    "\n",
    "The lyrics site, www.azlyrics.com, does not have an explicit maximum on number of requests in any one time, but in our testing it appears that too many requests in too short a time will cause the site to stop returning lyrics pages. (Entertainingly, the page that gets returned seems to only have the song title to [a Tom Jones song](https://www.azlyrics.com/lyrics/tomjones/itsnotunusual.html).) \n",
    "\n",
    "Whenever you call `requests.get` to retrieve a page, put a `time.sleep(5 + 10*random.random())` on the next line. This will help you not to get blocked. If you _do_ get blocked, which you can identify if the returned pages are not correct, just request a lyrics page through your browser. You'll be asked to perform a CAPTCHA and then your requests should start working again. \n",
    "\n",
    "## Part 1: Finding Links to Songs Lyrics\n",
    "\n",
    "That general artist page has a list of all songs for that artist with links to the individual song pages. \n",
    "\n",
    "**Question:**\n",
    "\n",
    "Q: Take a look at the `robots.txt` page on www.azlyrics.com. (You can read more about these pages [here](https://developers.google.com/search/docs/advanced/robots/intro).) Is the scraping we are about to do allowed or disallowed by this page? How do you know? \n",
    "\n",
    "A:\n",
    "User-agent: *\n",
    "Disallow: /lyricsdb/\n",
    "Disallow: /song/\n",
    "Allow: /\n",
    "\n",
    "User-agent: 008\n",
    "Disallow: /\n",
    "\n",
    "\n",
    "The first part means restrict all search engine from crawling the /lyricsdb and /song/ directory on the site and everything within it (subdirectories). Rest all directory are allowed to crawl.\n",
    "\n",
    "The second part means it would block OO8 that “listen” to robots.txt from crawling the site.\n",
    "\n",
    "The webscraping we are about to to is allowed by the page. I know it by reading regular expression of user-agent."
   ]
  },
  {
   "cell_type": "code",
   "execution_count": 18,
   "metadata": {},
   "outputs": [],
   "source": [
    "import random\n",
    "from bs4 import BeautifulSoup\n",
    "\n",
    "# Let's set up a dictionary of lists to hold our links\n",
    "lyrics_pages = defaultdict(list)\n",
    "\n",
    "for artist, artist_page in artists.items() :\n",
    "    # request the page and sleep\n",
    "    r = requests.get(artist_page)\n",
    "    time.sleep(5 + 10*random.random())\n",
    "    \n",
    "    # now extract the links to lyrics pages from this page\n",
    "    soup = BeautifulSoup(r.content)\n",
    "    links = soup.select('a[href^=\"/lyrics/\"]')\n",
    "   \n",
    " # store the links `lyrics_pages` where the key is the artist and the\n",
    "    # value is a list of links.\n",
    "    lyrics_pages[artist] = [\"https://www.azlyrics.com\" + i.get(\"href\") for i in links]\n",
    "    \n",
    "    "
   ]
  },
  {
   "cell_type": "markdown",
   "metadata": {},
   "source": [
    "Let's make sure we have enough lyrics pages to scrape. "
   ]
  },
  {
   "cell_type": "code",
   "execution_count": 19,
   "metadata": {},
   "outputs": [],
   "source": [
    "for artist, lp in lyrics_pages.items() :\n",
    "    assert(len(set(lp)) > 20) "
   ]
  },
  {
   "cell_type": "code",
   "execution_count": 20,
   "metadata": {},
   "outputs": [
    {
     "name": "stdout",
     "output_type": "stream",
     "text": [
      "For selena we have 95.\n",
      "The full pull will take for this artist will take 0.26 hours.\n",
      "For adele we have 71.\n",
      "The full pull will take for this artist will take 0.2 hours.\n"
     ]
    }
   ],
   "source": [
    "# Let's see how long it's going to take to pull these lyrics \n",
    "# if we're waiting `5 + 10*random.random()` seconds \n",
    "for artist, links in lyrics_pages.items() : \n",
    "    print(f\"For {artist} we have {len(links)}.\")\n",
    "    print(f\"The full pull will take for this artist will take {round(len(links)*10/3600,2)} hours.\")"
   ]
  },
  {
   "cell_type": "markdown",
   "metadata": {},
   "source": [
    "## Part 2: Pulling Lyrics\n",
    "\n",
    "**Instruction:**\n",
    "\n",
    "Now that we have the links to our lyrics pages, let's go scrape them! Here are the steps for this part. \n",
    "\n",
    "1. Create an empty folder in our repo called \"lyrics\". \n",
    "2. Iterate over the artists in `lyrics_pages`. \n",
    "3. Create a subfolder in lyrics with the artist's name. For instance, if the artist was Cher you'd have `lyrics/cher/` in your repo.\n",
    "4. Iterate over the pages. \n",
    "5. Request the page and extract the lyrics from the returned HTML file using BeautifulSoup.\n",
    "6. Use the function below, `generate_filename_from_url`, to create a filename based on the lyrics page, then write the lyrics to a text file with that name. \n"
   ]
  },
  {
   "cell_type": "code",
   "execution_count": 21,
   "metadata": {},
   "outputs": [],
   "source": [
    "def generate_filename_from_link(link) :\n",
    "    \n",
    "    if not link :\n",
    "        return None\n",
    "    \n",
    "    # drop the http or https and the html\n",
    "    name = link.replace(\"https\",\"\").replace(\"http\",\"\")\n",
    "    name = link.replace(\".html\",\"\")\n",
    "\n",
    "    name = name.replace(\"/lyrics/\",\"\")\n",
    "    \n",
    "    # Replace useless chareacters with UNDERSCORE\n",
    "    name = name.replace(\"://\",\"\").replace(\".\",\"_\").replace(\"/\",\"_\")\n",
    "    \n",
    "    # tack on .txt\n",
    "    name = name + \".txt\"\n",
    "    \n",
    "    return(name)\n"
   ]
  },
  {
   "cell_type": "code",
   "execution_count": 22,
   "metadata": {},
   "outputs": [],
   "source": [
    "# Make the lyrics folder here. If you'd like to practice your programming, add functionality \n",
    "# that checks to see if the folder exists. If it does, then use shutil.rmtree to remove it and create a new one.\n",
    "\n",
    "import shutil\n",
    "\n",
    "if os.path.isdir(\"lyrics\") : \n",
    "    shutil.rmtree(\"lyrics/\")\n",
    "\n",
    "os.mkdir(\"lyrics\")"
   ]
  },
  {
   "cell_type": "code",
   "execution_count": 23,
   "metadata": {},
   "outputs": [],
   "source": [
    "url_stub = \"https://www.azlyrics.com\" \n",
    "start = time.time()\n",
    "\n",
    "total_pages = 0 \n",
    "\n",
    "for artist in lyrics_pages :\n",
    "\n",
    "    # Use this space to carry out the following steps: \n",
    "    \n",
    "# 1. Build a subfolder for the artist\n",
    " # 2. Iterate over the lyrics pages\n",
    "    \n",
    "    path = 'lyrics'\n",
    "    \n",
    "    artist_file_path = os.path.join(path,\"{}\".format(artist))\n",
    "\n",
    "    if not os.path.exists(artist_file_path):\n",
    "        os.mkdir(artist_file_path)\n",
    " \n",
    " # 3. Request the lyrics page.\n",
    "# Don’t forget to add a line like `time.sleep(5 + 10*random.random()) to sleep after making the request\n",
    "    for music in lyrics_pages[artist]:\n",
    "        \n",
    "        r = requests.get(music)\n",
    "        \n",
    "        time.sleep(5 + 10*random.random())\n",
    "        \n",
    "        lyrics_soup = BeautifulSoup(r.content)\n",
    "    \n",
    "    \n",
    "# 4. Extract the title and lyrics from the page.\n",
    "        initial = lyrics_soup.find('b')\n",
    "        \n",
    "        title = initial.find_next('b').get_text()\n",
    "        \n",
    "        lyrics = lyrics_soup.find('div', class_=False, id=False).get_text()\n",
    "   \n",
    " # 5. Write out the title, two returns (‘\\n’), and the lyrics. Use `generate_filename_from_url to generate the filename.\n",
    "        \n",
    "        lyrics_title = title + '\\n' + '\\n' + lyrics\n",
    "        \n",
    "        open_path = os.path.join(artist_file_path, generate_filename_from_link(music))\n",
    "        \n",
    "        file = open(open_path,'w')\n",
    "        \n",
    "        file.write(lyrics_title)\n",
    "    \n",
    "    # Remember to pull at least 20 songs per artist. It may be fun to pull all the songs for the artist\n",
    "\n",
    "\n",
    "  "
   ]
  },
  {
   "cell_type": "code",
   "execution_count": 24,
   "metadata": {},
   "outputs": [
    {
     "name": "stdout",
     "output_type": "stream",
     "text": [
      "Total run time was 0.61 hours.\n"
     ]
    }
   ],
   "source": [
    "print(f\"Total run time was {round((time.time() - start)/3600,2)} hours.\")"
   ]
  },
  {
   "cell_type": "markdown",
   "metadata": {},
   "source": [
    "---\n",
    "\n",
    "# Evaluation\n",
    "\n",
    "This assignment asks you to pull data from the Twitter API and scrape www.AZLyrics.com.  After you have finished the above sections , run all the cells in this notebook. Print this to PDF and submit it, per the instructions."
   ]
  },
  {
   "cell_type": "code",
   "execution_count": 25,
   "metadata": {},
   "outputs": [],
   "source": [
    "# Simple word extractor from Peter Norvig: https://norvig.com/spell-correct.html\n",
    "def words(text): \n",
    "    return re.findall(r'\\w+', text.lower())"
   ]
  },
  {
   "cell_type": "markdown",
   "metadata": {},
   "source": [
    "---\n",
    "\n",
    "## Checking Twitter Data\n",
    "\n",
    "The output from your Twitter API pull should be two files per artist, stored in files with formats like `cher_followers.txt` (a list of all follower IDs you pulled) and `cher_followers_data.txt`. These files should be in a folder named `twitter` within the repository directory. This code summarizes the information at a high level to help the instructor evaluate your work. "
   ]
  },
  {
   "cell_type": "code",
   "execution_count": 26,
   "metadata": {},
   "outputs": [
    {
     "name": "stdout",
     "output_type": "stream",
     "text": [
      "We see two artist handles: selenagomez and Adele.\n"
     ]
    }
   ],
   "source": [
    "twitter_files = os.listdir(\"twitter\")\n",
    "twitter_files = [f for f in twitter_files if f != \".DS_Store\"]\n",
    "artist_handles = list(set([name.split(\"_\")[0] for name in twitter_files]))\n",
    "\n",
    "print(f\"We see two artist handles: {artist_handles[0]} and {artist_handles[1]}.\")"
   ]
  },
  {
   "cell_type": "code",
   "execution_count": 27,
   "metadata": {},
   "outputs": [
    {
     "name": "stdout",
     "output_type": "stream",
     "text": [
      "We see 100985 in your follower file for selenagomez, assuming a header row.\n",
      "In the follower data file (selenagomez_followers_data.txt) for selenagomez, we have these columns:\n",
      "screen_name : name : id : location : followers_count : friends_count : description\n",
      "\n",
      "We have 101006 data rows for selenagomez in the follower data file.\n",
      "For selenagomez we have 7112 unique locations.\n",
      "For selenagomez we have 58420 words in the descriptions.\n",
      "Here are the five most common words:\n",
      "[('i', 767), ('t', 615), ('co', 574), ('https', 370), ('she', 289)]\n",
      "\n",
      "----------------------------------------\n",
      "\n",
      "We see 100956 in your follower file for Adele, assuming a header row.\n",
      "In the follower data file (Adele_followers_data.txt) for Adele, we have these columns:\n",
      "screen_name : name : id : location : followers_count : friends_count : description\n",
      "\n",
      "We have 100976 data rows for Adele in the follower data file.\n",
      "For Adele we have 12380 unique locations.\n",
      "For Adele we have 121943 words in the descriptions.\n",
      "Here are the five most common words:\n",
      "[('i', 1595), ('t', 1081), ('co', 979), ('https', 635), ('she', 600)]\n",
      "\n",
      "----------------------------------------\n",
      "\n"
     ]
    }
   ],
   "source": [
    "for artist in artist_handles :\n",
    "    follower_file = artist + \"_followers.txt\"\n",
    "    follower_data_file = artist + \"_followers_data.txt\"\n",
    "    \n",
    "    ids = open(\"twitter/\" + follower_file,'r').readlines()\n",
    "    \n",
    "    print(f\"We see {len(ids)-1} in your follower file for {artist}, assuming a header row.\")\n",
    "    \n",
    "    with open(\"twitter/\" + follower_data_file,'r') as infile :\n",
    "        \n",
    "        # check the headers\n",
    "        headers = infile.readline().split(\"\\t\")\n",
    "        \n",
    "        print(f\"In the follower data file ({follower_data_file}) for {artist}, we have these columns:\")\n",
    "        print(\" : \".join(headers))\n",
    "        \n",
    "        description_words = []\n",
    "        locations = set()\n",
    "        \n",
    "        \n",
    "        for idx, line in enumerate(infile.readlines()) :\n",
    "            line = line.strip(\"\\n\").split(\"\\t\")\n",
    "            \n",
    "            try : \n",
    "                locations.add(line[3])            \n",
    "                description_words.extend(words(line[6]))\n",
    "            except :\n",
    "                pass\n",
    "    \n",
    "        \n",
    "\n",
    "        print(f\"We have {idx+1} data rows for {artist} in the follower data file.\")\n",
    "\n",
    "        print(f\"For {artist} we have {len(locations)} unique locations.\")\n",
    "\n",
    "        print(f\"For {artist} we have {len(description_words)} words in the descriptions.\")\n",
    "        print(\"Here are the five most common words:\")\n",
    "        print(Counter(description_words).most_common(5))\n",
    "\n",
    "        \n",
    "        print(\"\")\n",
    "        print(\"-\"*40)\n",
    "        print(\"\")"
   ]
  },
  {
   "cell_type": "markdown",
   "metadata": {},
   "source": [
    "## Checking Lyrics \n",
    "\n",
    "The output from your lyrics scrape should be stored in files located in this path from the directory:\n",
    "`/lyrics/[Artist Name]/[filename from URL]`. This code summarizes the information at a high level to help the instructor evaluate your work. "
   ]
  },
  {
   "cell_type": "code",
   "execution_count": 28,
   "metadata": {},
   "outputs": [
    {
     "name": "stdout",
     "output_type": "stream",
     "text": [
      "For selena we have 92 files.\n",
      "For selena we have roughly 34712 words, 2374 are unique.\n",
      "For adele we have 71 files.\n",
      "For adele we have roughly 22315 words, 1579 are unique.\n"
     ]
    }
   ],
   "source": [
    "artist_folders = os.listdir(\"lyrics/\")\n",
    "artist_folders = [f for f in artist_folders if os.path.isdir(\"lyrics/\" + f)]\n",
    "\n",
    "for artist in artist_folders : \n",
    "    artist_files = os.listdir(\"lyrics/\" + artist)\n",
    "    artist_files = [f for f in artist_files if 'txt' in f or 'csv' in f or 'tsv' in f]\n",
    "\n",
    "    print(f\"For {artist} we have {len(artist_files)} files.\")\n",
    "\n",
    "    artist_words = []\n",
    "\n",
    "    for f_name in artist_files : \n",
    "        with open(\"lyrics/\" + artist + \"/\" + f_name) as infile : \n",
    "            artist_words.extend(words(infile.read()))\n",
    "\n",
    "            \n",
    "    print(f\"For {artist} we have roughly {len(artist_words)} words, {len(set(artist_words))} are unique.\")\n"
   ]
  },
  {
   "cell_type": "code",
   "execution_count": null,
   "metadata": {},
   "outputs": [],
   "source": []
  }
 ],
 "metadata": {
  "kernelspec": {
   "display_name": "Python 3 (ipykernel)",
   "language": "python",
   "name": "python3"
  },
  "language_info": {
   "codemirror_mode": {
    "name": "ipython",
    "version": 3
   },
   "file_extension": ".py",
   "mimetype": "text/x-python",
   "name": "python",
   "nbconvert_exporter": "python",
   "pygments_lexer": "ipython3",
   "version": "3.7.10"
  }
 },
 "nbformat": 4,
 "nbformat_minor": 5
}
